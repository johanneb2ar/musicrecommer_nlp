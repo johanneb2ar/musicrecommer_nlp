{
 "cells": [
  {
   "cell_type": "markdown",
   "metadata": {},
   "source": [
    "### Step 4 Semantic similarity classification on reviews"
   ]
  },
  {
   "cell_type": "code",
   "execution_count": 2,
   "metadata": {},
   "outputs": [],
   "source": [
    "import pandas as pd"
   ]
  },
  {
   "cell_type": "code",
   "execution_count": 3,
   "metadata": {},
   "outputs": [],
   "source": [
    "combined_reviews=pd.read_csv('data_w_summaries.csv')"
   ]
  },
  {
   "cell_type": "code",
   "execution_count": 4,
   "metadata": {},
   "outputs": [
    {
     "data": {
      "text/html": [
       "<div>\n",
       "<style scoped>\n",
       "    .dataframe tbody tr th:only-of-type {\n",
       "        vertical-align: middle;\n",
       "    }\n",
       "\n",
       "    .dataframe tbody tr th {\n",
       "        vertical-align: top;\n",
       "    }\n",
       "\n",
       "    .dataframe thead th {\n",
       "        text-align: right;\n",
       "    }\n",
       "</style>\n",
       "<table border=\"1\" class=\"dataframe\">\n",
       "  <thead>\n",
       "    <tr style=\"text-align: right;\">\n",
       "      <th></th>\n",
       "      <th>product_title</th>\n",
       "      <th>review_body</th>\n",
       "      <th>summary</th>\n",
       "    </tr>\n",
       "  </thead>\n",
       "  <tbody>\n",
       "    <tr>\n",
       "      <th>0</th>\n",
       "      <td>\"2\"</td>\n",
       "      <td>If you're a fighter pilot, are with a fighter ...</td>\n",
       "      <td>If you're a fighter pilot, are with a fighter ...</td>\n",
       "    </tr>\n",
       "    <tr>\n",
       "      <th>1</th>\n",
       "      <td>\"DLG (Dark, Latin Groove) - Greatest Hits\"</td>\n",
       "      <td>I liked this cd. Its a good compilation of son...</td>\n",
       "      <td>Its a good compilation of songs, however I wis...</td>\n",
       "    </tr>\n",
       "    <tr>\n",
       "      <th>2</th>\n",
       "      <td>\"If I Go Away\" / \"Man Like Me\"</td>\n",
       "      <td>I love his voice!!!!! My boyfriend knows that ...</td>\n",
       "      <td>Trust me when you hear JP sing his OWN music, ...</td>\n",
       "    </tr>\n",
       "    <tr>\n",
       "      <th>3</th>\n",
       "      <td>\"John Skinner's Second Complete Ballroom Dance\"</td>\n",
       "      <td>Good music for ballroom dancing -- both for th...</td>\n",
       "      <td>Good music for ballroom dancing -- both for th...</td>\n",
       "    </tr>\n",
       "    <tr>\n",
       "      <th>4</th>\n",
       "      <td>\"Metal Box  3x 12\"\" 45 Rpm Lp in Metal Box\"</td>\n",
       "      <td>Indie label 4 men with Beards gets permission ...</td>\n",
       "      <td>many will want to get the turn table out of mo...</td>\n",
       "    </tr>\n",
       "    <tr>\n",
       "      <th>...</th>\n",
       "      <td>...</td>\n",
       "      <td>...</td>\n",
       "      <td>...</td>\n",
       "    </tr>\n",
       "    <tr>\n",
       "      <th>17100</th>\n",
       "      <td>this is the fire</td>\n",
       "      <td>its like Tom Petty, remixed by David Lynch. &lt;b...</td>\n",
       "      <td>&lt;br /&gt; &lt;br /&gt;1) \\\\\"la news\\\\\" is a great start...</td>\n",
       "    </tr>\n",
       "    <tr>\n",
       "      <th>17101</th>\n",
       "      <td>tin cans &amp; car tires</td>\n",
       "      <td>Very good studio moe.  Plane crash, Happy Hour...</td>\n",
       "      <td>Plane crash, Happy Hour Hero, Nebraska are som...</td>\n",
       "    </tr>\n",
       "    <tr>\n",
       "      <th>17102</th>\n",
       "      <td>travelling</td>\n",
       "      <td>Sorry for the mixed metaphor of a title, but M...</td>\n",
       "      <td>Spear is one of reggae's all-time most importa...</td>\n",
       "    </tr>\n",
       "    <tr>\n",
       "      <th>17103</th>\n",
       "      <td>¿La Calle Es Tuya?</td>\n",
       "      <td>Compare to the others Estopa CD's this is not ...</td>\n",
       "      <td>Compare to the others Estopa CD's this is not ...</td>\n",
       "    </tr>\n",
       "    <tr>\n",
       "      <th>17104</th>\n",
       "      <td>Überjam</td>\n",
       "      <td>John Scofield is so versatile, and Adam Deitch...</td>\n",
       "      <td>John Scofield is so versatile, and Adam Deitch...</td>\n",
       "    </tr>\n",
       "  </tbody>\n",
       "</table>\n",
       "<p>17105 rows × 3 columns</p>\n",
       "</div>"
      ],
      "text/plain": [
       "                                         product_title  \\\n",
       "0                                                  \"2\"   \n",
       "1           \"DLG (Dark, Latin Groove) - Greatest Hits\"   \n",
       "2                       \"If I Go Away\" / \"Man Like Me\"   \n",
       "3      \"John Skinner's Second Complete Ballroom Dance\"   \n",
       "4          \"Metal Box  3x 12\"\" 45 Rpm Lp in Metal Box\"   \n",
       "...                                                ...   \n",
       "17100                                 this is the fire   \n",
       "17101                             tin cans & car tires   \n",
       "17102                                       travelling   \n",
       "17103                               ¿La Calle Es Tuya?   \n",
       "17104                                          Überjam   \n",
       "\n",
       "                                             review_body  \\\n",
       "0      If you're a fighter pilot, are with a fighter ...   \n",
       "1      I liked this cd. Its a good compilation of son...   \n",
       "2      I love his voice!!!!! My boyfriend knows that ...   \n",
       "3      Good music for ballroom dancing -- both for th...   \n",
       "4      Indie label 4 men with Beards gets permission ...   \n",
       "...                                                  ...   \n",
       "17100  its like Tom Petty, remixed by David Lynch. <b...   \n",
       "17101  Very good studio moe.  Plane crash, Happy Hour...   \n",
       "17102  Sorry for the mixed metaphor of a title, but M...   \n",
       "17103  Compare to the others Estopa CD's this is not ...   \n",
       "17104  John Scofield is so versatile, and Adam Deitch...   \n",
       "\n",
       "                                                 summary  \n",
       "0      If you're a fighter pilot, are with a fighter ...  \n",
       "1      Its a good compilation of songs, however I wis...  \n",
       "2      Trust me when you hear JP sing his OWN music, ...  \n",
       "3      Good music for ballroom dancing -- both for th...  \n",
       "4      many will want to get the turn table out of mo...  \n",
       "...                                                  ...  \n",
       "17100  <br /> <br />1) \\\\\"la news\\\\\" is a great start...  \n",
       "17101  Plane crash, Happy Hour Hero, Nebraska are som...  \n",
       "17102  Spear is one of reggae's all-time most importa...  \n",
       "17103  Compare to the others Estopa CD's this is not ...  \n",
       "17104  John Scofield is so versatile, and Adam Deitch...  \n",
       "\n",
       "[17105 rows x 3 columns]"
      ]
     },
     "execution_count": 4,
     "metadata": {},
     "output_type": "execute_result"
    }
   ],
   "source": [
    "combined_reviews"
   ]
  },
  {
   "cell_type": "code",
   "execution_count": 5,
   "metadata": {},
   "outputs": [],
   "source": [
    "from gensim.models import KeyedVectors"
   ]
  },
  {
   "cell_type": "code",
   "execution_count": 6,
   "metadata": {},
   "outputs": [],
   "source": [
    "# location of the downloaded binary\n",
    "filepath='/Users/johannebear/Library/Mobile Documents/com~apple~CloudDocs/APPLIED ANALYTICS/APAN 5430/Assignments/assignment5/GoogleNews-vectors-negative300.bin.gz'"
   ]
  },
  {
   "cell_type": "code",
   "execution_count": 7,
   "metadata": {},
   "outputs": [],
   "source": [
    "model_word2vec = KeyedVectors.load_word2vec_format(filepath, binary=True)"
   ]
  },
  {
   "cell_type": "code",
   "execution_count": 8,
   "metadata": {},
   "outputs": [],
   "source": [
    "topic_taxonomy = {\n",
    "    \"Sound Quality\": {\n",
    "        \"Clear Audio\": \"The sound quality is clear and crisp, allowing every instrument and detail to be heard distinctly.\",\n",
    "        \"High Fidelity\": \"The sound fidelity is high, with a realistic and natural reproduction of the music.\",\n",
    "        \"Excellent Engineering\": \"The sound engineering in the recording and mixing process is well-executed.\",\n",
    "        \"Exceptional Acoustics\": \"The acoustic performance is exceptional, showcasing the natural resonance and tone of instruments.\",\n",
    "        \"Balanced Sound\": \"The audio balance is well-maintained, ensuring that no instrument overpowers others.\",\n",
    "    },\n",
    "    \"Lyrics\": {\n",
    "        \"Lyricism\": \"The lyrics exhibit a high level of lyricism and poetic expression.\",\n",
    "        \"Compelling Storytelling\": \"The lyrics tell a compelling story that engages the listeners.\",\n",
    "        \"Emotionally Resonant Delivery\": \"The delivery of the lyrics is skillful and emotionally resonant.\",\n",
    "        \"Deep Emotional Expression\": \"The lyrics convey deep emotions and heartfelt sentiments.\",\n",
    "        \"Meaningful Messages\": \"The lyrics carry meaningful messages and thought-provoking themes.\",\n",
    "    },\n",
    "    \"Vocals\": {\n",
    "        \"Powerful Vocal Performance\": \"The vocal performance is powerful, expressive, and skillfully executed.\",\n",
    "        \"Impressive Vocal Range\": \"The vocalist demonstrates an impressive vocal range.\",\n",
    "        \"Excellent Vocal Technique\": \"The vocalist showcases excellent vocal techniques and control.\",\n",
    "        \"Commanding Vocal Power\": \"The vocals have a strong and commanding presence.\",\n",
    "        \"Clear Vocal Articulation\": \"The vocals are clear and intelligible, enhancing the understanding of the lyrics.\",\n",
    "    },\n",
    "    \"Instrumentation\": {\n",
    "        \"Well-Crafted Instrumental Arrangement\": \"The instrumental arrangement is well-crafted and complements the overall sound.\",\n",
    "        \"Impressive Instrumental Performance\": \"The instrumental performance is top-notch and showcases musicians' skills.\",\n",
    "        \"Exemplary Instrumental Technique\": \"The instrumentalists demonstrate excellent playing techniques.\",\n",
    "        \"Balanced Instrumental Mix\": \"The instrumental balance ensures that each instrument has its place in the mix.\",\n",
    "        \"Diverse Instrumental Variety\": \"The instrumentation offers a diverse range of sounds and textures.\",\n",
    "    },\n",
    "    \"Production\": {\n",
    "        \"High Production Quality\": \"The production quality is high, resulting in a polished and professional sound.\",\n",
    "        \"Well-Balanced Mixing\": \"The mixing is well-balanced, with each element fitting harmoniously in the mix.\",\n",
    "        \"Enhanced Mastering\": \"The mastering process enhances the overall sound and loudness without distortion.\",\n",
    "        \"Innovative Production Techniques\": \"The production showcases innovative and creative techniques.\",\n",
    "        \"Unique Production Flair\": \"The production has a unique flair that sets it apart from standard recordings.\",\n",
    "    },\n",
    "    \"Originality\": {\n",
    "        \"Distinctive Sound\": \"The music possesses a distinctive and recognizable sound.\",\n",
    "        \"Exploratory and Experimental\": \"The music explores experimental and boundary-pushing elements.\",\n",
    "        \"Innovative Composition\": \"The music showcases innovative and novel approaches to composition.\",\n",
    "        \"Creative Genre Fusion\": \"The music takes a creative and fresh approach by fusing different genres.\",\n",
    "        \"Unique Artistic Style\": \"The music exhibits a unique and distinguishable artistic style.\",\n",
    "    },\n",
    "    \"Emotion\": {\n",
    "        \"Emotional Impact\": \"The music leaves a profound emotional impact on the listener.\",\n",
    "        \"Emotionally Evocative\": \"The music evokes a range of emotions, from joy to melancholy.\",\n",
    "        \"Sentimental and Nostalgic\": \"The music carries sentimental and nostalgic qualities.\",\n",
    "        \"Passionate Performance\": \"The music is passionately performed and conveys intense emotions.\",\n",
    "        \"Soulful Expression\": \"The music has a soulful and heartfelt quality.\",\n",
    "    },\n",
    "    \"Energy\": {\n",
    "        \"Energetic Music\": \"The music is energetic and full of lively and vibrant elements.\",\n",
    "        \"High-Energy Performance\": \"The music exudes high-energy and a sense of excitement.\",\n",
    "        \"Powerful Delivery\": \"The music has a powerful and impactful delivery.\",\n",
    "        \"Dynamic Shifts\": \"The music showcases dynamic shifts and contrasts.\",\n",
    "        \"Upbeat and Uplifting\": \"The music has an upbeat and uplifting vibe.\",\n",
    "    },\n",
    "    \"Melody\": {\n",
    "        \"Memorable Melodic Structure\": \"The melodic structure is well-crafted and memorable.\",\n",
    "        \"Catchy Melodies\": \"The music contains catchy and infectious melodies.\",\n",
    "        \"Easily Recallable Melodies\": \"The melodies are memorable and easy to recall.\",\n",
    "        \"Harmonious Melodies\": \"The melodies blend harmoniously with the overall composition.\",\n",
    "        \"Engaging Melodic Progression\": \"The melodic progression is engaging and captivating.\",\n",
    "    },\n",
    "    \"Harmony\": {\n",
    "        \"Harmonization\": \"The harmonization of instruments and vocals is skillfully executed.\",\n",
    "        \"Harmonic Balance\": \"The harmonic balance ensures a pleasing and coherent sound.\",\n",
    "        \"Harmonic Richness\": \"The music exhibits harmonic richness and complexity\"\n",
    "    }\n",
    "}"
   ]
  },
  {
   "cell_type": "code",
   "execution_count": 9,
   "metadata": {},
   "outputs": [
    {
     "data": {
      "text/plain": [
       "dict_keys(['Sound Quality', 'Lyrics', 'Vocals', 'Instrumentation', 'Production', 'Originality', 'Emotion', 'Energy', 'Melody', 'Harmony'])"
      ]
     },
     "execution_count": 9,
     "metadata": {},
     "output_type": "execute_result"
    }
   ],
   "source": [
    "topic_taxonomy.keys()"
   ]
  },
  {
   "cell_type": "code",
   "execution_count": 10,
   "metadata": {},
   "outputs": [
    {
     "data": {
      "text/plain": [
       "dict_keys(['Clear Audio', 'High Fidelity', 'Excellent Engineering', 'Exceptional Acoustics', 'Balanced Sound'])"
      ]
     },
     "execution_count": 10,
     "metadata": {},
     "output_type": "execute_result"
    }
   ],
   "source": [
    "topic_taxonomy['Sound Quality'].keys()"
   ]
  },
  {
   "cell_type": "code",
   "execution_count": 11,
   "metadata": {},
   "outputs": [],
   "source": [
    "class TaxonomyClassifier:\n",
    "    def __init__(self, model, taxonomy, topN=3):\n",
    "        '''\n",
    "        Constructor for TaxonomyClassifier\n",
    "        model: word2vec model\n",
    "        taxonomy: 2-level taxonomy defined as dictinoary-in-dictionary\n",
    "        '''\n",
    "        self.model = model\n",
    "        self.taxonomy = taxonomy\n",
    "        self.topN = topN\n",
    "        \n",
    "    def classify(self, text, topN=None):\n",
    "        '''\n",
    "        Classfify text to subtopics based on the similarity between the input text and the subtopic keywords \n",
    "        text: the input text\n",
    "        topN: number of subtopics to be shown\n",
    "        '''\n",
    "        \n",
    "        topN = topN if topN else self.topN\n",
    "        text = str(text).lower()\n",
    "        scores = dict()\n",
    "        for topic, taxonomy in self.taxonomy.items():\n",
    "\n",
    "            subtopic_scores = dict()\n",
    "\n",
    "            for subtopic, keywords in taxonomy.items():\n",
    "                subtopic_text = (subtopic + ' ' + keywords).strip().lower()\n",
    "                subtopic_scores[subtopic] = self.model.n_similarity(text.split(), subtopic_text.split())\n",
    "\n",
    "            topSubtopic, subtopiScore = sorted(subtopic_scores.items(), key=lambda x: x[1], reverse=True)[0]\n",
    "            scores[topSubtopic] = subtopiScore\n",
    "\n",
    "        return sorted(scores.items(), key=lambda x: x[1])[::-1][:topN]"
   ]
  },
  {
   "cell_type": "code",
   "execution_count": 12,
   "metadata": {},
   "outputs": [],
   "source": [
    "tc = TaxonomyClassifier(model=model_word2vec, taxonomy=topic_taxonomy)"
   ]
  },
  {
   "cell_type": "code",
   "execution_count": 13,
   "metadata": {},
   "outputs": [],
   "source": [
    "test_reviews = [\n",
    "    \"The sound quality of this album is amazing! Every instrument and detail can be heard distinctly.\",\n",
    "    \"The lyrics tell a compelling story that engages the listeners. The emotional delivery is skillful.\",\n",
    "    \"The production quality is top-notch, resulting in a polished and professional sound.\",\n",
    "    \"The melodic progression is engaging and captivating. The melodies blend harmoniously with the overall composition.\"\n",
    "]\n",
    "\n",
    "test_labels = ['Clear Audio',  'Compelling Storytelling', 'High Production Quality',  'Engaging Melodic Progression']\n"
   ]
  },
  {
   "cell_type": "code",
   "execution_count": 14,
   "metadata": {},
   "outputs": [
    {
     "name": "stdout",
     "output_type": "stream",
     "text": [
      "['Clear Audio', 'Compelling Storytelling', 'High Production Quality', 'Harmonious Melodies']\n"
     ]
    }
   ],
   "source": [
    "predicted_topics = []\n",
    "\n",
    "for review in test_reviews:\n",
    "    prediction = tc.classify(review, topN=1)[0]\n",
    "    predicted_topics.append(prediction[0])\n",
    "    \n",
    "print(predicted_topics)"
   ]
  },
  {
   "cell_type": "code",
   "execution_count": 15,
   "metadata": {},
   "outputs": [
    {
     "name": "stdout",
     "output_type": "stream",
     "text": [
      "['Clear Audio', 'Compelling Storytelling', 'High Production Quality', 'Engaging Melodic Progression']\n",
      "['Clear Audio', 'Compelling Storytelling', 'High Production Quality', 'Harmonious Melodies']\n",
      "Accuracy of this model  is: 75.00%\n"
     ]
    }
   ],
   "source": [
    "correct_predictions = sum(1 for predicted, truth in zip(predicted_topics, test_labels) if predicted == truth)\n",
    "accuracy = correct_predictions / len(test_labels) * 100\n",
    "\n",
    "print(test_labels)\n",
    "print(predicted_topics)\n",
    "print(f\"Accuracy of this model  is: {accuracy:.2f}%\")\n"
   ]
  },
  {
   "cell_type": "code",
   "execution_count": 16,
   "metadata": {},
   "outputs": [],
   "source": [
    "combined_reviews['review_topic'] = combined_reviews['summary'].apply(lambda x: tc.classify(x, topN=1))"
   ]
  },
  {
   "cell_type": "code",
   "execution_count": 17,
   "metadata": {},
   "outputs": [],
   "source": [
    "combined_reviews['review_topic'] = combined_reviews['review_topic'].apply(lambda x: x[0][0])"
   ]
  },
  {
   "cell_type": "code",
   "execution_count": 18,
   "metadata": {},
   "outputs": [
    {
     "data": {
      "text/html": [
       "<div>\n",
       "<style scoped>\n",
       "    .dataframe tbody tr th:only-of-type {\n",
       "        vertical-align: middle;\n",
       "    }\n",
       "\n",
       "    .dataframe tbody tr th {\n",
       "        vertical-align: top;\n",
       "    }\n",
       "\n",
       "    .dataframe thead th {\n",
       "        text-align: right;\n",
       "    }\n",
       "</style>\n",
       "<table border=\"1\" class=\"dataframe\">\n",
       "  <thead>\n",
       "    <tr style=\"text-align: right;\">\n",
       "      <th></th>\n",
       "      <th>product_title</th>\n",
       "      <th>review_body</th>\n",
       "      <th>summary</th>\n",
       "      <th>review_topic</th>\n",
       "    </tr>\n",
       "  </thead>\n",
       "  <tbody>\n",
       "    <tr>\n",
       "      <th>0</th>\n",
       "      <td>\"2\"</td>\n",
       "      <td>If you're a fighter pilot, are with a fighter ...</td>\n",
       "      <td>If you're a fighter pilot, are with a fighter ...</td>\n",
       "      <td>Clear Audio</td>\n",
       "    </tr>\n",
       "    <tr>\n",
       "      <th>1</th>\n",
       "      <td>\"DLG (Dark, Latin Groove) - Greatest Hits\"</td>\n",
       "      <td>I liked this cd. Its a good compilation of son...</td>\n",
       "      <td>Its a good compilation of songs, however I wis...</td>\n",
       "      <td>Clear Audio</td>\n",
       "    </tr>\n",
       "    <tr>\n",
       "      <th>2</th>\n",
       "      <td>\"If I Go Away\" / \"Man Like Me\"</td>\n",
       "      <td>I love his voice!!!!! My boyfriend knows that ...</td>\n",
       "      <td>Trust me when you hear JP sing his OWN music, ...</td>\n",
       "      <td>Clear Audio</td>\n",
       "    </tr>\n",
       "    <tr>\n",
       "      <th>3</th>\n",
       "      <td>\"John Skinner's Second Complete Ballroom Dance\"</td>\n",
       "      <td>Good music for ballroom dancing -- both for th...</td>\n",
       "      <td>Good music for ballroom dancing -- both for th...</td>\n",
       "      <td>Energetic Music</td>\n",
       "    </tr>\n",
       "    <tr>\n",
       "      <th>4</th>\n",
       "      <td>\"Metal Box  3x 12\"\" 45 Rpm Lp in Metal Box\"</td>\n",
       "      <td>Indie label 4 men with Beards gets permission ...</td>\n",
       "      <td>many will want to get the turn table out of mo...</td>\n",
       "      <td>Clear Audio</td>\n",
       "    </tr>\n",
       "    <tr>\n",
       "      <th>...</th>\n",
       "      <td>...</td>\n",
       "      <td>...</td>\n",
       "      <td>...</td>\n",
       "      <td>...</td>\n",
       "    </tr>\n",
       "    <tr>\n",
       "      <th>17100</th>\n",
       "      <td>this is the fire</td>\n",
       "      <td>its like Tom Petty, remixed by David Lynch. &lt;b...</td>\n",
       "      <td>&lt;br /&gt; &lt;br /&gt;1) \\\\\"la news\\\\\" is a great start...</td>\n",
       "      <td>Balanced Sound</td>\n",
       "    </tr>\n",
       "    <tr>\n",
       "      <th>17101</th>\n",
       "      <td>tin cans &amp; car tires</td>\n",
       "      <td>Very good studio moe.  Plane crash, Happy Hour...</td>\n",
       "      <td>Plane crash, Happy Hour Hero, Nebraska are som...</td>\n",
       "      <td>Clear Audio</td>\n",
       "    </tr>\n",
       "    <tr>\n",
       "      <th>17102</th>\n",
       "      <td>travelling</td>\n",
       "      <td>Sorry for the mixed metaphor of a title, but M...</td>\n",
       "      <td>Spear is one of reggae's all-time most importa...</td>\n",
       "      <td>Well-Balanced Mixing</td>\n",
       "    </tr>\n",
       "    <tr>\n",
       "      <th>17103</th>\n",
       "      <td>¿La Calle Es Tuya?</td>\n",
       "      <td>Compare to the others Estopa CD's this is not ...</td>\n",
       "      <td>Compare to the others Estopa CD's this is not ...</td>\n",
       "      <td>Clear Audio</td>\n",
       "    </tr>\n",
       "    <tr>\n",
       "      <th>17104</th>\n",
       "      <td>Überjam</td>\n",
       "      <td>John Scofield is so versatile, and Adam Deitch...</td>\n",
       "      <td>John Scofield is so versatile, and Adam Deitch...</td>\n",
       "      <td>Balanced Sound</td>\n",
       "    </tr>\n",
       "  </tbody>\n",
       "</table>\n",
       "<p>17105 rows × 4 columns</p>\n",
       "</div>"
      ],
      "text/plain": [
       "                                         product_title  \\\n",
       "0                                                  \"2\"   \n",
       "1           \"DLG (Dark, Latin Groove) - Greatest Hits\"   \n",
       "2                       \"If I Go Away\" / \"Man Like Me\"   \n",
       "3      \"John Skinner's Second Complete Ballroom Dance\"   \n",
       "4          \"Metal Box  3x 12\"\" 45 Rpm Lp in Metal Box\"   \n",
       "...                                                ...   \n",
       "17100                                 this is the fire   \n",
       "17101                             tin cans & car tires   \n",
       "17102                                       travelling   \n",
       "17103                               ¿La Calle Es Tuya?   \n",
       "17104                                          Überjam   \n",
       "\n",
       "                                             review_body  \\\n",
       "0      If you're a fighter pilot, are with a fighter ...   \n",
       "1      I liked this cd. Its a good compilation of son...   \n",
       "2      I love his voice!!!!! My boyfriend knows that ...   \n",
       "3      Good music for ballroom dancing -- both for th...   \n",
       "4      Indie label 4 men with Beards gets permission ...   \n",
       "...                                                  ...   \n",
       "17100  its like Tom Petty, remixed by David Lynch. <b...   \n",
       "17101  Very good studio moe.  Plane crash, Happy Hour...   \n",
       "17102  Sorry for the mixed metaphor of a title, but M...   \n",
       "17103  Compare to the others Estopa CD's this is not ...   \n",
       "17104  John Scofield is so versatile, and Adam Deitch...   \n",
       "\n",
       "                                                 summary          review_topic  \n",
       "0      If you're a fighter pilot, are with a fighter ...           Clear Audio  \n",
       "1      Its a good compilation of songs, however I wis...           Clear Audio  \n",
       "2      Trust me when you hear JP sing his OWN music, ...           Clear Audio  \n",
       "3      Good music for ballroom dancing -- both for th...       Energetic Music  \n",
       "4      many will want to get the turn table out of mo...           Clear Audio  \n",
       "...                                                  ...                   ...  \n",
       "17100  <br /> <br />1) \\\\\"la news\\\\\" is a great start...        Balanced Sound  \n",
       "17101  Plane crash, Happy Hour Hero, Nebraska are som...           Clear Audio  \n",
       "17102  Spear is one of reggae's all-time most importa...  Well-Balanced Mixing  \n",
       "17103  Compare to the others Estopa CD's this is not ...           Clear Audio  \n",
       "17104  John Scofield is so versatile, and Adam Deitch...        Balanced Sound  \n",
       "\n",
       "[17105 rows x 4 columns]"
      ]
     },
     "execution_count": 18,
     "metadata": {},
     "output_type": "execute_result"
    }
   ],
   "source": [
    "combined_reviews"
   ]
  },
  {
   "cell_type": "code",
   "execution_count": 22,
   "metadata": {},
   "outputs": [
    {
     "data": {
      "text/plain": [
       "array(['Clear Audio', 'Energetic Music', 'Balanced Sound',\n",
       "       'Balanced Instrumental Mix', 'Well-Balanced Mixing',\n",
       "       'High-Energy Performance', 'Dynamic Shifts',\n",
       "       'Passionate Performance', 'Creative Genre Fusion',\n",
       "       'Easily Recallable Melodies', 'Harmonic Richness',\n",
       "       'Emotionally Evocative', 'Emotional Impact', 'Soulful Expression',\n",
       "       'Harmonious Melodies', 'Unique Production Flair',\n",
       "       'Catchy Melodies', 'Harmonization', 'Compelling Storytelling',\n",
       "       'Excellent Engineering', 'Lyricism', 'High Production Quality',\n",
       "       'Sentimental and Nostalgic', 'High Fidelity',\n",
       "       'Clear Vocal Articulation', 'Memorable Melodic Structure',\n",
       "       'Upbeat and Uplifting', 'Exemplary Instrumental Technique',\n",
       "       'Impressive Vocal Range', 'Enhanced Mastering',\n",
       "       'Powerful Delivery', 'Commanding Vocal Power',\n",
       "       'Diverse Instrumental Variety', 'Exceptional Acoustics',\n",
       "       'Excellent Vocal Technique', 'Powerful Vocal Performance',\n",
       "       'Distinctive Sound', 'Emotionally Resonant Delivery',\n",
       "       'Impressive Instrumental Performance', 'Deep Emotional Expression',\n",
       "       'Well-Crafted Instrumental Arrangement', 'Unique Artistic Style',\n",
       "       'Meaningful Messages', 'Innovative Composition'], dtype=object)"
      ]
     },
     "execution_count": 22,
     "metadata": {},
     "output_type": "execute_result"
    }
   ],
   "source": [
    "review_topic=combined_reviews['review_topic'].unique()\n",
    "review_topic"
   ]
  },
  {
   "cell_type": "code",
   "execution_count": 21,
   "metadata": {},
   "outputs": [],
   "source": [
    "combined_reviews.to_csv('data_w_review_topic.csv',index=False)"
   ]
  }
 ],
 "metadata": {
  "kernelspec": {
   "display_name": "Python 3",
   "language": "python",
   "name": "python3"
  },
  "language_info": {
   "codemirror_mode": {
    "name": "ipython",
    "version": 3
   },
   "file_extension": ".py",
   "mimetype": "text/x-python",
   "name": "python",
   "nbconvert_exporter": "python",
   "pygments_lexer": "ipython3",
   "version": "3.9.6"
  },
  "orig_nbformat": 4
 },
 "nbformat": 4,
 "nbformat_minor": 2
}
