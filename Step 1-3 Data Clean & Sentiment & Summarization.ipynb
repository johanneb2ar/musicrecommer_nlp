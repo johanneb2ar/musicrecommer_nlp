{
 "cells": [
  {
   "cell_type": "markdown",
   "metadata": {},
   "source": [
    "### Step 1 Obatain and process data"
   ]
  },
  {
   "cell_type": "code",
   "execution_count": 1,
   "metadata": {},
   "outputs": [],
   "source": [
    "import pandas as pd"
   ]
  },
  {
   "cell_type": "code",
   "execution_count": 2,
   "metadata": {},
   "outputs": [],
   "source": [
    "file_path=\"https://huggingface.co/api/datasets/amazon_us_reviews/parquet/Music_v1_00/train/4.parquet\""
   ]
  },
  {
   "cell_type": "code",
   "execution_count": 3,
   "metadata": {},
   "outputs": [],
   "source": [
    "df=pd.read_parquet(file_path)"
   ]
  },
  {
   "cell_type": "code",
   "execution_count": 4,
   "metadata": {},
   "outputs": [
    {
     "data": {
      "text/plain": [
       "441000"
      ]
     },
     "execution_count": 4,
     "metadata": {},
     "output_type": "execute_result"
    }
   ],
   "source": [
    "# Size of original dataset \n",
    "len(df)"
   ]
  },
  {
   "cell_type": "markdown",
   "metadata": {},
   "source": [
    "##### We will use 100,000 rows of data for this project"
   ]
  },
  {
   "cell_type": "code",
   "execution_count": 5,
   "metadata": {},
   "outputs": [],
   "source": [
    "df=df[:100000]"
   ]
  },
  {
   "cell_type": "code",
   "execution_count": 6,
   "metadata": {},
   "outputs": [
    {
     "data": {
      "text/plain": [
       "Index(['marketplace', 'customer_id', 'review_id', 'product_id',\n",
       "       'product_parent', 'product_title', 'product_category', 'star_rating',\n",
       "       'helpful_votes', 'total_votes', 'vine', 'verified_purchase',\n",
       "       'review_headline', 'review_body', 'review_date'],\n",
       "      dtype='object')"
      ]
     },
     "execution_count": 6,
     "metadata": {},
     "output_type": "execute_result"
    }
   ],
   "source": [
    "df.columns #check which columns wont be needed"
   ]
  },
  {
   "cell_type": "code",
   "execution_count": 7,
   "metadata": {},
   "outputs": [
    {
     "data": {
      "text/html": [
       "<div>\n",
       "<style scoped>\n",
       "    .dataframe tbody tr th:only-of-type {\n",
       "        vertical-align: middle;\n",
       "    }\n",
       "\n",
       "    .dataframe tbody tr th {\n",
       "        vertical-align: top;\n",
       "    }\n",
       "\n",
       "    .dataframe thead th {\n",
       "        text-align: right;\n",
       "    }\n",
       "</style>\n",
       "<table border=\"1\" class=\"dataframe\">\n",
       "  <thead>\n",
       "    <tr style=\"text-align: right;\">\n",
       "      <th></th>\n",
       "      <th>marketplace</th>\n",
       "      <th>customer_id</th>\n",
       "      <th>review_id</th>\n",
       "      <th>product_id</th>\n",
       "      <th>product_parent</th>\n",
       "      <th>product_title</th>\n",
       "      <th>product_category</th>\n",
       "      <th>star_rating</th>\n",
       "      <th>helpful_votes</th>\n",
       "      <th>total_votes</th>\n",
       "      <th>vine</th>\n",
       "      <th>verified_purchase</th>\n",
       "      <th>review_headline</th>\n",
       "      <th>review_body</th>\n",
       "      <th>review_date</th>\n",
       "    </tr>\n",
       "  </thead>\n",
       "  <tbody>\n",
       "    <tr>\n",
       "      <th>0</th>\n",
       "      <td>US</td>\n",
       "      <td>49094403</td>\n",
       "      <td>R6W7O55HFSPNK</td>\n",
       "      <td>B00004T9W4</td>\n",
       "      <td>609783476</td>\n",
       "      <td>Teaser And The Firecat (Remastered)</td>\n",
       "      <td>Music</td>\n",
       "      <td>5</td>\n",
       "      <td>6</td>\n",
       "      <td>6</td>\n",
       "      <td>0</td>\n",
       "      <td>1</td>\n",
       "      <td>Wonderful Music, Wonderful Memories</td>\n",
       "      <td>The music of Cat Stevens inspired my college d...</td>\n",
       "      <td>2007-01-04</td>\n",
       "    </tr>\n",
       "    <tr>\n",
       "      <th>1</th>\n",
       "      <td>US</td>\n",
       "      <td>32977150</td>\n",
       "      <td>RU8NU5PYIHSQP</td>\n",
       "      <td>B0009299LU</td>\n",
       "      <td>682021445</td>\n",
       "      <td>Rock Of Ages: The Definitive Collection [2 CD]</td>\n",
       "      <td>Music</td>\n",
       "      <td>5</td>\n",
       "      <td>3</td>\n",
       "      <td>4</td>\n",
       "      <td>0</td>\n",
       "      <td>1</td>\n",
       "      <td>This band is the best!</td>\n",
       "      <td>Love these guys and hope they harmonize my lif...</td>\n",
       "      <td>2007-01-04</td>\n",
       "    </tr>\n",
       "    <tr>\n",
       "      <th>2</th>\n",
       "      <td>US</td>\n",
       "      <td>50412145</td>\n",
       "      <td>R1YSZAEB9NHE4D</td>\n",
       "      <td>B000HDR7OW</td>\n",
       "      <td>208493278</td>\n",
       "      <td>Rest of My Life/Dont Fall Asleep in the Subwa...</td>\n",
       "      <td>Music</td>\n",
       "      <td>5</td>\n",
       "      <td>0</td>\n",
       "      <td>0</td>\n",
       "      <td>0</td>\n",
       "      <td>1</td>\n",
       "      <td>Buy it, all your friends did, do it.</td>\n",
       "      <td>Less Than Jake deliver another new B-side. Com...</td>\n",
       "      <td>2007-01-04</td>\n",
       "    </tr>\n",
       "    <tr>\n",
       "      <th>3</th>\n",
       "      <td>US</td>\n",
       "      <td>40118896</td>\n",
       "      <td>RPICJ3NV6D6Q9</td>\n",
       "      <td>B000HC2PDQ</td>\n",
       "      <td>81891824</td>\n",
       "      <td>Face the Promise (CD+DVD)</td>\n",
       "      <td>Music</td>\n",
       "      <td>5</td>\n",
       "      <td>0</td>\n",
       "      <td>0</td>\n",
       "      <td>0</td>\n",
       "      <td>1</td>\n",
       "      <td>Bob Seger - Face the Promise</td>\n",
       "      <td>I have loved Bob Seger since the 70's!  This n...</td>\n",
       "      <td>2007-01-04</td>\n",
       "    </tr>\n",
       "    <tr>\n",
       "      <th>4</th>\n",
       "      <td>US</td>\n",
       "      <td>34491626</td>\n",
       "      <td>RFZ43852RSUPR</td>\n",
       "      <td>B00008PX90</td>\n",
       "      <td>604640879</td>\n",
       "      <td>Essential Shawn Mullins</td>\n",
       "      <td>Music</td>\n",
       "      <td>4</td>\n",
       "      <td>0</td>\n",
       "      <td>0</td>\n",
       "      <td>0</td>\n",
       "      <td>1</td>\n",
       "      <td>A must have in your collection</td>\n",
       "      <td>This is a great CD.  There are at least 7 or 8...</td>\n",
       "      <td>2007-01-04</td>\n",
       "    </tr>\n",
       "  </tbody>\n",
       "</table>\n",
       "</div>"
      ],
      "text/plain": [
       "  marketplace customer_id       review_id  product_id product_parent  \\\n",
       "0          US    49094403   R6W7O55HFSPNK  B00004T9W4      609783476   \n",
       "1          US    32977150   RU8NU5PYIHSQP  B0009299LU      682021445   \n",
       "2          US    50412145  R1YSZAEB9NHE4D  B000HDR7OW      208493278   \n",
       "3          US    40118896   RPICJ3NV6D6Q9  B000HC2PDQ       81891824   \n",
       "4          US    34491626   RFZ43852RSUPR  B00008PX90      604640879   \n",
       "\n",
       "                                       product_title product_category  \\\n",
       "0                Teaser And The Firecat (Remastered)            Music   \n",
       "1     Rock Of Ages: The Definitive Collection [2 CD]            Music   \n",
       "2  Rest of My Life/Dont Fall Asleep in the Subwa...            Music   \n",
       "3                          Face the Promise (CD+DVD)            Music   \n",
       "4                            Essential Shawn Mullins            Music   \n",
       "\n",
       "   star_rating  helpful_votes  total_votes  vine  verified_purchase  \\\n",
       "0            5              6            6     0                  1   \n",
       "1            5              3            4     0                  1   \n",
       "2            5              0            0     0                  1   \n",
       "3            5              0            0     0                  1   \n",
       "4            4              0            0     0                  1   \n",
       "\n",
       "                        review_headline  \\\n",
       "0   Wonderful Music, Wonderful Memories   \n",
       "1                This band is the best!   \n",
       "2  Buy it, all your friends did, do it.   \n",
       "3          Bob Seger - Face the Promise   \n",
       "4        A must have in your collection   \n",
       "\n",
       "                                         review_body review_date  \n",
       "0  The music of Cat Stevens inspired my college d...  2007-01-04  \n",
       "1  Love these guys and hope they harmonize my lif...  2007-01-04  \n",
       "2  Less Than Jake deliver another new B-side. Com...  2007-01-04  \n",
       "3  I have loved Bob Seger since the 70's!  This n...  2007-01-04  \n",
       "4  This is a great CD.  There are at least 7 or 8...  2007-01-04  "
      ]
     },
     "execution_count": 7,
     "metadata": {},
     "output_type": "execute_result"
    }
   ],
   "source": [
    "df.head(5)"
   ]
  },
  {
   "cell_type": "code",
   "execution_count": 8,
   "metadata": {},
   "outputs": [
    {
     "data": {
      "text/plain": [
       "array(['US'], dtype=object)"
      ]
     },
     "execution_count": 8,
     "metadata": {},
     "output_type": "execute_result"
    }
   ],
   "source": [
    "df['marketplace'].unique()"
   ]
  },
  {
   "cell_type": "code",
   "execution_count": 9,
   "metadata": {},
   "outputs": [
    {
     "data": {
      "text/html": [
       "<div>\n",
       "<style scoped>\n",
       "    .dataframe tbody tr th:only-of-type {\n",
       "        vertical-align: middle;\n",
       "    }\n",
       "\n",
       "    .dataframe tbody tr th {\n",
       "        vertical-align: top;\n",
       "    }\n",
       "\n",
       "    .dataframe thead th {\n",
       "        text-align: right;\n",
       "    }\n",
       "</style>\n",
       "<table border=\"1\" class=\"dataframe\">\n",
       "  <thead>\n",
       "    <tr style=\"text-align: right;\">\n",
       "      <th></th>\n",
       "      <th>customer_id</th>\n",
       "      <th>review_id</th>\n",
       "      <th>product_id</th>\n",
       "      <th>product_parent</th>\n",
       "      <th>product_title</th>\n",
       "      <th>review_headline</th>\n",
       "      <th>review_body</th>\n",
       "    </tr>\n",
       "  </thead>\n",
       "  <tbody>\n",
       "    <tr>\n",
       "      <th>0</th>\n",
       "      <td>49094403</td>\n",
       "      <td>R6W7O55HFSPNK</td>\n",
       "      <td>B00004T9W4</td>\n",
       "      <td>609783476</td>\n",
       "      <td>Teaser And The Firecat (Remastered)</td>\n",
       "      <td>Wonderful Music, Wonderful Memories</td>\n",
       "      <td>The music of Cat Stevens inspired my college d...</td>\n",
       "    </tr>\n",
       "    <tr>\n",
       "      <th>1</th>\n",
       "      <td>32977150</td>\n",
       "      <td>RU8NU5PYIHSQP</td>\n",
       "      <td>B0009299LU</td>\n",
       "      <td>682021445</td>\n",
       "      <td>Rock Of Ages: The Definitive Collection [2 CD]</td>\n",
       "      <td>This band is the best!</td>\n",
       "      <td>Love these guys and hope they harmonize my lif...</td>\n",
       "    </tr>\n",
       "    <tr>\n",
       "      <th>2</th>\n",
       "      <td>50412145</td>\n",
       "      <td>R1YSZAEB9NHE4D</td>\n",
       "      <td>B000HDR7OW</td>\n",
       "      <td>208493278</td>\n",
       "      <td>Rest of My Life/Dont Fall Asleep in the Subwa...</td>\n",
       "      <td>Buy it, all your friends did, do it.</td>\n",
       "      <td>Less Than Jake deliver another new B-side. Com...</td>\n",
       "    </tr>\n",
       "    <tr>\n",
       "      <th>3</th>\n",
       "      <td>40118896</td>\n",
       "      <td>RPICJ3NV6D6Q9</td>\n",
       "      <td>B000HC2PDQ</td>\n",
       "      <td>81891824</td>\n",
       "      <td>Face the Promise (CD+DVD)</td>\n",
       "      <td>Bob Seger - Face the Promise</td>\n",
       "      <td>I have loved Bob Seger since the 70's!  This n...</td>\n",
       "    </tr>\n",
       "    <tr>\n",
       "      <th>4</th>\n",
       "      <td>34491626</td>\n",
       "      <td>RFZ43852RSUPR</td>\n",
       "      <td>B00008PX90</td>\n",
       "      <td>604640879</td>\n",
       "      <td>Essential Shawn Mullins</td>\n",
       "      <td>A must have in your collection</td>\n",
       "      <td>This is a great CD.  There are at least 7 or 8...</td>\n",
       "    </tr>\n",
       "  </tbody>\n",
       "</table>\n",
       "</div>"
      ],
      "text/plain": [
       "  customer_id       review_id  product_id product_parent  \\\n",
       "0    49094403   R6W7O55HFSPNK  B00004T9W4      609783476   \n",
       "1    32977150   RU8NU5PYIHSQP  B0009299LU      682021445   \n",
       "2    50412145  R1YSZAEB9NHE4D  B000HDR7OW      208493278   \n",
       "3    40118896   RPICJ3NV6D6Q9  B000HC2PDQ       81891824   \n",
       "4    34491626   RFZ43852RSUPR  B00008PX90      604640879   \n",
       "\n",
       "                                       product_title  \\\n",
       "0                Teaser And The Firecat (Remastered)   \n",
       "1     Rock Of Ages: The Definitive Collection [2 CD]   \n",
       "2  Rest of My Life/Dont Fall Asleep in the Subwa...   \n",
       "3                          Face the Promise (CD+DVD)   \n",
       "4                            Essential Shawn Mullins   \n",
       "\n",
       "                        review_headline  \\\n",
       "0   Wonderful Music, Wonderful Memories   \n",
       "1                This band is the best!   \n",
       "2  Buy it, all your friends did, do it.   \n",
       "3          Bob Seger - Face the Promise   \n",
       "4        A must have in your collection   \n",
       "\n",
       "                                         review_body  \n",
       "0  The music of Cat Stevens inspired my college d...  \n",
       "1  Love these guys and hope they harmonize my lif...  \n",
       "2  Less Than Jake deliver another new B-side. Com...  \n",
       "3  I have loved Bob Seger since the 70's!  This n...  \n",
       "4  This is a great CD.  There are at least 7 or 8...  "
      ]
     },
     "execution_count": 9,
     "metadata": {},
     "output_type": "execute_result"
    }
   ],
   "source": [
    "# Keep necessary columns\n",
    "columns_to_delete = ['marketplace', 'product_category', 'star_rating', 'helpful_votes', 'total_votes', 'vine', 'verified_purchase', 'review_date']\n",
    "\n",
    "df.drop(columns=columns_to_delete, inplace=True)\n",
    "\n",
    "df.head(5)"
   ]
  },
  {
   "cell_type": "code",
   "execution_count": 10,
   "metadata": {},
   "outputs": [
    {
     "data": {
      "text/plain": [
       "46607"
      ]
     },
     "execution_count": 10,
     "metadata": {},
     "output_type": "execute_result"
    }
   ],
   "source": [
    "product_title=df['product_title'].unique() # How many distinct products\n",
    "len(product_title)"
   ]
  },
  {
   "cell_type": "code",
   "execution_count": 11,
   "metadata": {},
   "outputs": [
    {
     "data": {
      "text/plain": [
       "51084"
      ]
     },
     "execution_count": 11,
     "metadata": {},
     "output_type": "execute_result"
    }
   ],
   "source": [
    "len(df['product_id'].unique()) # Since the output will be recommended music title so we will use product_title instead of id going forward"
   ]
  },
  {
   "cell_type": "markdown",
   "metadata": {},
   "source": [
    "### Step 2 Sentiment Analysis using textblob"
   ]
  },
  {
   "cell_type": "code",
   "execution_count": 12,
   "metadata": {},
   "outputs": [
    {
     "name": "stdout",
     "output_type": "stream",
     "text": [
      "Requirement already satisfied: textblob in /Users/johannebear/opt/anaconda3/lib/python3.9/site-packages (0.17.1)\n",
      "Requirement already satisfied: nltk>=3.1 in /Users/johannebear/opt/anaconda3/lib/python3.9/site-packages (from textblob) (3.8.1)\n",
      "Requirement already satisfied: joblib in /Users/johannebear/opt/anaconda3/lib/python3.9/site-packages (from nltk>=3.1->textblob) (1.2.0)\n",
      "Requirement already satisfied: regex>=2021.8.3 in /Users/johannebear/opt/anaconda3/lib/python3.9/site-packages (from nltk>=3.1->textblob) (2023.3.23)\n",
      "Requirement already satisfied: click in /Users/johannebear/opt/anaconda3/lib/python3.9/site-packages (from nltk>=3.1->textblob) (8.0.4)\n",
      "Requirement already satisfied: tqdm in /Users/johannebear/opt/anaconda3/lib/python3.9/site-packages (from nltk>=3.1->textblob) (4.64.1)\n"
     ]
    }
   ],
   "source": [
    "!pip3 install textblob"
   ]
  },
  {
   "cell_type": "code",
   "execution_count": 13,
   "metadata": {},
   "outputs": [],
   "source": [
    "from textblob import TextBlob"
   ]
  },
  {
   "cell_type": "code",
   "execution_count": 14,
   "metadata": {},
   "outputs": [],
   "source": [
    "def get_sentiment(text):\n",
    "    analysis = TextBlob(text)\n",
    "    return analysis.sentiment.polarity"
   ]
  },
  {
   "cell_type": "code",
   "execution_count": 15,
   "metadata": {},
   "outputs": [],
   "source": [
    "df['sentiment'] = df['review_body'].apply(get_sentiment) # Add sentiment column to store sentiment score"
   ]
  },
  {
   "cell_type": "code",
   "execution_count": 16,
   "metadata": {},
   "outputs": [],
   "source": [
    "df['sentiment_label'] = df['sentiment'].apply(lambda x: 'positive' if x > 0.3 else 'negative' if x < 0.3 else 'neutral') # Define sentiment label of each row"
   ]
  },
  {
   "cell_type": "code",
   "execution_count": 17,
   "metadata": {},
   "outputs": [
    {
     "data": {
      "text/html": [
       "<div>\n",
       "<style scoped>\n",
       "    .dataframe tbody tr th:only-of-type {\n",
       "        vertical-align: middle;\n",
       "    }\n",
       "\n",
       "    .dataframe tbody tr th {\n",
       "        vertical-align: top;\n",
       "    }\n",
       "\n",
       "    .dataframe thead th {\n",
       "        text-align: right;\n",
       "    }\n",
       "</style>\n",
       "<table border=\"1\" class=\"dataframe\">\n",
       "  <thead>\n",
       "    <tr style=\"text-align: right;\">\n",
       "      <th></th>\n",
       "      <th>customer_id</th>\n",
       "      <th>review_id</th>\n",
       "      <th>product_id</th>\n",
       "      <th>product_parent</th>\n",
       "      <th>product_title</th>\n",
       "      <th>review_headline</th>\n",
       "      <th>review_body</th>\n",
       "      <th>sentiment</th>\n",
       "      <th>sentiment_label</th>\n",
       "    </tr>\n",
       "  </thead>\n",
       "  <tbody>\n",
       "    <tr>\n",
       "      <th>2</th>\n",
       "      <td>50412145</td>\n",
       "      <td>R1YSZAEB9NHE4D</td>\n",
       "      <td>B000HDR7OW</td>\n",
       "      <td>208493278</td>\n",
       "      <td>Rest of My Life/Dont Fall Asleep in the Subwa...</td>\n",
       "      <td>Buy it, all your friends did, do it.</td>\n",
       "      <td>Less Than Jake deliver another new B-side. Com...</td>\n",
       "      <td>-0.019394</td>\n",
       "      <td>negative</td>\n",
       "    </tr>\n",
       "    <tr>\n",
       "      <th>6</th>\n",
       "      <td>36312418</td>\n",
       "      <td>R1XDJ4V0MDZUCM</td>\n",
       "      <td>B000GRTQX4</td>\n",
       "      <td>605685678</td>\n",
       "      <td>My Fair Lady (20th Anniversary Broadway Cast)</td>\n",
       "      <td>Still Loverly</td>\n",
       "      <td>The only reason I purchased this recording was...</td>\n",
       "      <td>0.119974</td>\n",
       "      <td>negative</td>\n",
       "    </tr>\n",
       "    <tr>\n",
       "      <th>7</th>\n",
       "      <td>47765663</td>\n",
       "      <td>R2N08FPRCHRM85</td>\n",
       "      <td>B000006SW2</td>\n",
       "      <td>557411594</td>\n",
       "      <td>The Complete Beyond The Fringe (1961 Original ...</td>\n",
       "      <td>What could have been</td>\n",
       "      <td>Such a shame this comedy troupe broke up. Humo...</td>\n",
       "      <td>0.000000</td>\n",
       "      <td>negative</td>\n",
       "    </tr>\n",
       "    <tr>\n",
       "      <th>9</th>\n",
       "      <td>44056578</td>\n",
       "      <td>R2CNMCDTJH1OQF</td>\n",
       "      <td>B000HDRARQ</td>\n",
       "      <td>919993860</td>\n",
       "      <td>Living Like A Refugee</td>\n",
       "      <td>A music Lovers Dream</td>\n",
       "      <td>This CD is unlike any other! It was compiled a...</td>\n",
       "      <td>0.037109</td>\n",
       "      <td>negative</td>\n",
       "    </tr>\n",
       "    <tr>\n",
       "      <th>12</th>\n",
       "      <td>24024980</td>\n",
       "      <td>R335FOIS77XNXO</td>\n",
       "      <td>B000I5X82O</td>\n",
       "      <td>624410935</td>\n",
       "      <td>An Other Cup</td>\n",
       "      <td>An other and an other and an other....</td>\n",
       "      <td>I could keep have an other cup of this music p...</td>\n",
       "      <td>0.193750</td>\n",
       "      <td>negative</td>\n",
       "    </tr>\n",
       "    <tr>\n",
       "      <th>...</th>\n",
       "      <td>...</td>\n",
       "      <td>...</td>\n",
       "      <td>...</td>\n",
       "      <td>...</td>\n",
       "      <td>...</td>\n",
       "      <td>...</td>\n",
       "      <td>...</td>\n",
       "      <td>...</td>\n",
       "      <td>...</td>\n",
       "    </tr>\n",
       "    <tr>\n",
       "      <th>99994</th>\n",
       "      <td>47461597</td>\n",
       "      <td>R1J3DHYRXGGWMN</td>\n",
       "      <td>B000A6T2EY</td>\n",
       "      <td>469022814</td>\n",
       "      <td>The Essential Artie Shaw</td>\n",
       "      <td>Great music, great remastering, bad track order</td>\n",
       "      <td>First off, the bad...The tracks are not in chr...</td>\n",
       "      <td>0.164680</td>\n",
       "      <td>negative</td>\n",
       "    </tr>\n",
       "    <tr>\n",
       "      <th>99995</th>\n",
       "      <td>27221470</td>\n",
       "      <td>R58SI22TLEGWD</td>\n",
       "      <td>B000EPR7NE</td>\n",
       "      <td>501078419</td>\n",
       "      <td>The Da Vinci Code</td>\n",
       "      <td>Da Vinci Code Soundtrack</td>\n",
       "      <td>This is the best soundtrack I have heard in ye...</td>\n",
       "      <td>0.217222</td>\n",
       "      <td>negative</td>\n",
       "    </tr>\n",
       "    <tr>\n",
       "      <th>99997</th>\n",
       "      <td>52569116</td>\n",
       "      <td>R16LXICAXWMVYV</td>\n",
       "      <td>B00065TZUU</td>\n",
       "      <td>496394500</td>\n",
       "      <td>Everything You've Heard Is True</td>\n",
       "      <td>Uneven but interesting solo album from former ...</td>\n",
       "      <td>Tom Johnston's first solo album has a strong R...</td>\n",
       "      <td>0.237549</td>\n",
       "      <td>negative</td>\n",
       "    </tr>\n",
       "    <tr>\n",
       "      <th>99998</th>\n",
       "      <td>13617020</td>\n",
       "      <td>R1WSDDZP22W4CR</td>\n",
       "      <td>B0000253X1</td>\n",
       "      <td>278426851</td>\n",
       "      <td>Superlife</td>\n",
       "      <td>Track listing</td>\n",
       "      <td>1. Believe &lt;br /&gt;2. Overdue &lt;br /&gt;3. Too Littl...</td>\n",
       "      <td>-0.122917</td>\n",
       "      <td>negative</td>\n",
       "    </tr>\n",
       "    <tr>\n",
       "      <th>99999</th>\n",
       "      <td>17138949</td>\n",
       "      <td>R1BT6CDISOBJ6A</td>\n",
       "      <td>B0000072DY</td>\n",
       "      <td>990710891</td>\n",
       "      <td>Mountain Live: The Road Goes Ever On</td>\n",
       "      <td>youth revisited</td>\n",
       "      <td>I pulled my old lp copy of this out the other ...</td>\n",
       "      <td>0.256444</td>\n",
       "      <td>negative</td>\n",
       "    </tr>\n",
       "  </tbody>\n",
       "</table>\n",
       "<p>66019 rows × 9 columns</p>\n",
       "</div>"
      ],
      "text/plain": [
       "      customer_id       review_id  product_id product_parent  \\\n",
       "2        50412145  R1YSZAEB9NHE4D  B000HDR7OW      208493278   \n",
       "6        36312418  R1XDJ4V0MDZUCM  B000GRTQX4      605685678   \n",
       "7        47765663  R2N08FPRCHRM85  B000006SW2      557411594   \n",
       "9        44056578  R2CNMCDTJH1OQF  B000HDRARQ      919993860   \n",
       "12       24024980  R335FOIS77XNXO  B000I5X82O      624410935   \n",
       "...           ...             ...         ...            ...   \n",
       "99994    47461597  R1J3DHYRXGGWMN  B000A6T2EY      469022814   \n",
       "99995    27221470   R58SI22TLEGWD  B000EPR7NE      501078419   \n",
       "99997    52569116  R16LXICAXWMVYV  B00065TZUU      496394500   \n",
       "99998    13617020  R1WSDDZP22W4CR  B0000253X1      278426851   \n",
       "99999    17138949  R1BT6CDISOBJ6A  B0000072DY      990710891   \n",
       "\n",
       "                                           product_title  \\\n",
       "2      Rest of My Life/Dont Fall Asleep in the Subwa...   \n",
       "6          My Fair Lady (20th Anniversary Broadway Cast)   \n",
       "7      The Complete Beyond The Fringe (1961 Original ...   \n",
       "9                                  Living Like A Refugee   \n",
       "12                                          An Other Cup   \n",
       "...                                                  ...   \n",
       "99994                           The Essential Artie Shaw   \n",
       "99995                                  The Da Vinci Code   \n",
       "99997                    Everything You've Heard Is True   \n",
       "99998                                          Superlife   \n",
       "99999               Mountain Live: The Road Goes Ever On   \n",
       "\n",
       "                                         review_headline  \\\n",
       "2                   Buy it, all your friends did, do it.   \n",
       "6                                          Still Loverly   \n",
       "7                                   What could have been   \n",
       "9                                   A music Lovers Dream   \n",
       "12                An other and an other and an other....   \n",
       "...                                                  ...   \n",
       "99994    Great music, great remastering, bad track order   \n",
       "99995                           Da Vinci Code Soundtrack   \n",
       "99997  Uneven but interesting solo album from former ...   \n",
       "99998                                      Track listing   \n",
       "99999                                    youth revisited   \n",
       "\n",
       "                                             review_body  sentiment  \\\n",
       "2      Less Than Jake deliver another new B-side. Com...  -0.019394   \n",
       "6      The only reason I purchased this recording was...   0.119974   \n",
       "7      Such a shame this comedy troupe broke up. Humo...   0.000000   \n",
       "9      This CD is unlike any other! It was compiled a...   0.037109   \n",
       "12     I could keep have an other cup of this music p...   0.193750   \n",
       "...                                                  ...        ...   \n",
       "99994  First off, the bad...The tracks are not in chr...   0.164680   \n",
       "99995  This is the best soundtrack I have heard in ye...   0.217222   \n",
       "99997  Tom Johnston's first solo album has a strong R...   0.237549   \n",
       "99998  1. Believe <br />2. Overdue <br />3. Too Littl...  -0.122917   \n",
       "99999  I pulled my old lp copy of this out the other ...   0.256444   \n",
       "\n",
       "      sentiment_label  \n",
       "2            negative  \n",
       "6            negative  \n",
       "7            negative  \n",
       "9            negative  \n",
       "12           negative  \n",
       "...               ...  \n",
       "99994        negative  \n",
       "99995        negative  \n",
       "99997        negative  \n",
       "99998        negative  \n",
       "99999        negative  \n",
       "\n",
       "[66019 rows x 9 columns]"
      ]
     },
     "execution_count": 17,
     "metadata": {},
     "output_type": "execute_result"
    }
   ],
   "source": [
    "df[df['sentiment_label']=='negative']"
   ]
  },
  {
   "cell_type": "code",
   "execution_count": 18,
   "metadata": {},
   "outputs": [],
   "source": [
    "df.to_csv('sentiment_data.csv',index=False)"
   ]
  },
  {
   "cell_type": "markdown",
   "metadata": {},
   "source": [
    "### Filter out overall positive feedback music"
   ]
  },
  {
   "cell_type": "code",
   "execution_count": 19,
   "metadata": {},
   "outputs": [],
   "source": [
    "# Count the negative neutral positive reviews of each music\n",
    "sentiment_counts=df.groupby('product_title')['sentiment_label'].value_counts().unstack(fill_value=0).sort_values(by='positive',ascending=False)"
   ]
  },
  {
   "cell_type": "code",
   "execution_count": 20,
   "metadata": {},
   "outputs": [
    {
     "data": {
      "text/html": [
       "<div>\n",
       "<style scoped>\n",
       "    .dataframe tbody tr th:only-of-type {\n",
       "        vertical-align: middle;\n",
       "    }\n",
       "\n",
       "    .dataframe tbody tr th {\n",
       "        vertical-align: top;\n",
       "    }\n",
       "\n",
       "    .dataframe thead th {\n",
       "        text-align: right;\n",
       "    }\n",
       "</style>\n",
       "<table border=\"1\" class=\"dataframe\">\n",
       "  <thead>\n",
       "    <tr style=\"text-align: right;\">\n",
       "      <th>sentiment_label</th>\n",
       "      <th>negative</th>\n",
       "      <th>neutral</th>\n",
       "      <th>positive</th>\n",
       "    </tr>\n",
       "    <tr>\n",
       "      <th>product_title</th>\n",
       "      <th></th>\n",
       "      <th></th>\n",
       "      <th></th>\n",
       "    </tr>\n",
       "  </thead>\n",
       "  <tbody>\n",
       "    <tr>\n",
       "      <th>A Thousand Different Ways</th>\n",
       "      <td>182</td>\n",
       "      <td>0</td>\n",
       "      <td>180</td>\n",
       "    </tr>\n",
       "    <tr>\n",
       "      <th>Daughtry</th>\n",
       "      <td>129</td>\n",
       "      <td>3</td>\n",
       "      <td>140</td>\n",
       "    </tr>\n",
       "    <tr>\n",
       "      <th>Taylor Hicks</th>\n",
       "      <td>72</td>\n",
       "      <td>1</td>\n",
       "      <td>95</td>\n",
       "    </tr>\n",
       "    <tr>\n",
       "      <th>Modern Times</th>\n",
       "      <td>177</td>\n",
       "      <td>0</td>\n",
       "      <td>90</td>\n",
       "    </tr>\n",
       "    <tr>\n",
       "      <th>20 Y.O.</th>\n",
       "      <td>157</td>\n",
       "      <td>1</td>\n",
       "      <td>87</td>\n",
       "    </tr>\n",
       "    <tr>\n",
       "      <th>...</th>\n",
       "      <td>...</td>\n",
       "      <td>...</td>\n",
       "      <td>...</td>\n",
       "    </tr>\n",
       "    <tr>\n",
       "      <th>Jam on Me</th>\n",
       "      <td>1</td>\n",
       "      <td>0</td>\n",
       "      <td>0</td>\n",
       "    </tr>\n",
       "    <tr>\n",
       "      <th>Jam Track Learn To Play Country Guitar Cd</th>\n",
       "      <td>1</td>\n",
       "      <td>0</td>\n",
       "      <td>0</td>\n",
       "    </tr>\n",
       "    <tr>\n",
       "      <th>Jam Session at the Tower</th>\n",
       "      <td>1</td>\n",
       "      <td>0</td>\n",
       "      <td>0</td>\n",
       "    </tr>\n",
       "    <tr>\n",
       "      <th>Jake in a Box: Emi Recordings 1967-1976</th>\n",
       "      <td>1</td>\n",
       "      <td>0</td>\n",
       "      <td>0</td>\n",
       "    </tr>\n",
       "    <tr>\n",
       "      <th>Lost in America</th>\n",
       "      <td>1</td>\n",
       "      <td>0</td>\n",
       "      <td>0</td>\n",
       "    </tr>\n",
       "  </tbody>\n",
       "</table>\n",
       "<p>46607 rows × 3 columns</p>\n",
       "</div>"
      ],
      "text/plain": [
       "sentiment_label                            negative  neutral  positive\n",
       "product_title                                                         \n",
       "A Thousand Different Ways                       182        0       180\n",
       "Daughtry                                        129        3       140\n",
       "Taylor Hicks                                     72        1        95\n",
       "Modern Times                                    177        0        90\n",
       "20 Y.O.                                         157        1        87\n",
       "...                                             ...      ...       ...\n",
       "Jam on Me                                         1        0         0\n",
       "Jam Track Learn To Play Country Guitar Cd         1        0         0\n",
       "Jam Session at the Tower                          1        0         0\n",
       "Jake in a Box: Emi Recordings 1967-1976           1        0         0\n",
       "Lost in America                                   1        0         0\n",
       "\n",
       "[46607 rows x 3 columns]"
      ]
     },
     "execution_count": 20,
     "metadata": {},
     "output_type": "execute_result"
    }
   ],
   "source": [
    "sentiment_counts"
   ]
  },
  {
   "cell_type": "code",
   "execution_count": 21,
   "metadata": {},
   "outputs": [
    {
     "name": "stdout",
     "output_type": "stream",
     "text": [
      "17105\n",
      "29502\n"
     ]
    }
   ],
   "source": [
    "# Filter the music with only the most positive feedback to a new list\n",
    "overall_positive = []\n",
    "overall_negative=[]\n",
    "for title in df['product_title'].unique():\n",
    "    positive_count = sentiment_counts.loc[title, 'positive']\n",
    "    negative_count = sentiment_counts.loc[title, 'negative']\n",
    "    neutral_count = sentiment_counts.loc[title, 'neutral']\n",
    "    if positive_count == max(positive_count,negative_count,neutral_count):\n",
    "        overall_positive.append(title)\n",
    "    else:\n",
    "        overall_negative.append(title)\n",
    "\n",
    "print(len(overall_positive))\n",
    "print(len(overall_negative))"
   ]
  },
  {
   "cell_type": "code",
   "execution_count": 22,
   "metadata": {},
   "outputs": [
    {
     "data": {
      "text/plain": [
       "23497"
      ]
     },
     "execution_count": 22,
     "metadata": {},
     "output_type": "execute_result"
    }
   ],
   "source": [
    "# Finalize the filtered dataframe with only music with positive feedbacks\n",
    "filtered_df = df[(df['product_title'].isin(overall_positive)) & (df['sentiment_label'] == 'positive')]\n",
    "len(filtered_df)\n"
   ]
  },
  {
   "cell_type": "code",
   "execution_count": 23,
   "metadata": {},
   "outputs": [
    {
     "data": {
      "text/plain": [
       "17105"
      ]
     },
     "execution_count": 23,
     "metadata": {},
     "output_type": "execute_result"
    }
   ],
   "source": [
    "len(filtered_df['product_title'].unique()) # Size of distinct music remained"
   ]
  },
  {
   "cell_type": "code",
   "execution_count": 24,
   "metadata": {},
   "outputs": [
    {
     "data": {
      "text/plain": [
       "0        Wonderful Music, Wonderful Memories\n",
       "1                     This band is the best!\n",
       "3               Bob Seger - Face the Promise\n",
       "4             A must have in your collection\n",
       "5                                 Phantastic\n",
       "                        ...                 \n",
       "99962                             TRACK LIST\n",
       "99964                         Kinks live on!\n",
       "99966                   Quintessential Crims\n",
       "99969                      Excellent Project\n",
       "99982            This is Judy Jacob's best!!\n",
       "Name: review_headline, Length: 23497, dtype: object"
      ]
     },
     "execution_count": 24,
     "metadata": {},
     "output_type": "execute_result"
    }
   ],
   "source": [
    "filtered_df['review_headline']"
   ]
  },
  {
   "cell_type": "markdown",
   "metadata": {},
   "source": [
    "### Step 3 Positive reviews summarization with TextRank"
   ]
  },
  {
   "cell_type": "code",
   "execution_count": 25,
   "metadata": {},
   "outputs": [],
   "source": [
    "# Combine all review body based on their product title\n",
    "combined_reviews = filtered_df.groupby('product_title')['review_body'].apply(lambda x: '.'.join(x)).reset_index()"
   ]
  },
  {
   "cell_type": "code",
   "execution_count": 26,
   "metadata": {},
   "outputs": [
    {
     "data": {
      "text/html": [
       "<div>\n",
       "<style scoped>\n",
       "    .dataframe tbody tr th:only-of-type {\n",
       "        vertical-align: middle;\n",
       "    }\n",
       "\n",
       "    .dataframe tbody tr th {\n",
       "        vertical-align: top;\n",
       "    }\n",
       "\n",
       "    .dataframe thead th {\n",
       "        text-align: right;\n",
       "    }\n",
       "</style>\n",
       "<table border=\"1\" class=\"dataframe\">\n",
       "  <thead>\n",
       "    <tr style=\"text-align: right;\">\n",
       "      <th></th>\n",
       "      <th>product_title</th>\n",
       "      <th>review_body</th>\n",
       "    </tr>\n",
       "  </thead>\n",
       "  <tbody>\n",
       "    <tr>\n",
       "      <th>70</th>\n",
       "      <td>12 Years of Tears - Live</td>\n",
       "      <td>If you like soft cell / Marc Almond then this ...</td>\n",
       "    </tr>\n",
       "    <tr>\n",
       "      <th>71</th>\n",
       "      <td>12\" Essentials: The Seventies</td>\n",
       "      <td>Got it mostly for Bionic Boogies Risky Changes...</td>\n",
       "    </tr>\n",
       "    <tr>\n",
       "      <th>72</th>\n",
       "      <td>120 Days of Genitorture</td>\n",
       "      <td>Looks to be the goth / metal band's first CD r...</td>\n",
       "    </tr>\n",
       "    <tr>\n",
       "      <th>73</th>\n",
       "      <td>122 Ellsworth</td>\n",
       "      <td>This is the best album I've heard in years.  I...</td>\n",
       "    </tr>\n",
       "    <tr>\n",
       "      <th>74</th>\n",
       "      <td>13 &amp; God</td>\n",
       "      <td>I can not stop listening to this album. I love...</td>\n",
       "    </tr>\n",
       "    <tr>\n",
       "      <th>75</th>\n",
       "      <td>14 Shades Of Grey</td>\n",
       "      <td>13 tracks from Staind and only 3 are any good,...</td>\n",
       "    </tr>\n",
       "    <tr>\n",
       "      <th>76</th>\n",
       "      <td>1492 - Conquest of Paradise</td>\n",
       "      <td>I first heard this music while watching a demo...</td>\n",
       "    </tr>\n",
       "    <tr>\n",
       "      <th>77</th>\n",
       "      <td>15 Crucial Reggae Cuts</td>\n",
       "      <td>Great Raggae CD here is the list of music  &lt;br...</td>\n",
       "    </tr>\n",
       "    <tr>\n",
       "      <th>78</th>\n",
       "      <td>15 Exitos</td>\n",
       "      <td>I loved this CD. There were a couple of the so...</td>\n",
       "    </tr>\n",
       "    <tr>\n",
       "      <th>79</th>\n",
       "      <td>15 Exitos De</td>\n",
       "      <td>On this CD you not only get some great tracks ...</td>\n",
       "    </tr>\n",
       "    <tr>\n",
       "      <th>80</th>\n",
       "      <td>15 Exitos Inmortales</td>\n",
       "      <td>Jorge Negrete has a wonderful voice with a gre...</td>\n",
       "    </tr>\n",
       "    <tr>\n",
       "      <th>81</th>\n",
       "      <td>15 YEAR KILLING SPREE</td>\n",
       "      <td>This is an excellent box set for the price. Ca...</td>\n",
       "    </tr>\n",
       "    <tr>\n",
       "      <th>82</th>\n",
       "      <td>150mph</td>\n",
       "      <td>This was Louie Bellson's first album for Conco...</td>\n",
       "    </tr>\n",
       "    <tr>\n",
       "      <th>83</th>\n",
       "      <td>16 #1 Hits From the Early 60's</td>\n",
       "      <td>Great Album, but the identical cd is available...</td>\n",
       "    </tr>\n",
       "    <tr>\n",
       "      <th>84</th>\n",
       "      <td>16 Biggest Hits</td>\n",
       "      <td>Collin Raye is an exceptional singer!  He has ...</td>\n",
       "    </tr>\n",
       "    <tr>\n",
       "      <th>85</th>\n",
       "      <td>16 Exitos</td>\n",
       "      <td>Out of nowhere, I hear a song called, \\\\\"El Me...</td>\n",
       "    </tr>\n",
       "    <tr>\n",
       "      <th>86</th>\n",
       "      <td>16 Most Requested Songs</td>\n",
       "      <td>All the best of Mel Torme.  Sounds just like M...</td>\n",
       "    </tr>\n",
       "    <tr>\n",
       "      <th>87</th>\n",
       "      <td>16 Most Requested Songs Of The 1940s, Vol. 1</td>\n",
       "      <td>Can't quite put my finger on it, but this coll...</td>\n",
       "    </tr>\n",
       "    <tr>\n",
       "      <th>88</th>\n",
       "      <td>16th Century Italian &amp; French Dance Music</td>\n",
       "      <td>The intro and closing pieces to 'A Distant Mir...</td>\n",
       "    </tr>\n",
       "    <tr>\n",
       "      <th>89</th>\n",
       "      <td>17 Greatest Hits</td>\n",
       "      <td>Great CD Janie Fricke has a wonderful voice an...</td>\n",
       "    </tr>\n",
       "  </tbody>\n",
       "</table>\n",
       "</div>"
      ],
      "text/plain": [
       "                                   product_title  \\\n",
       "70                      12 Years of Tears - Live   \n",
       "71                 12\" Essentials: The Seventies   \n",
       "72                       120 Days of Genitorture   \n",
       "73                                 122 Ellsworth   \n",
       "74                                      13 & God   \n",
       "75                             14 Shades Of Grey   \n",
       "76                   1492 - Conquest of Paradise   \n",
       "77                        15 Crucial Reggae Cuts   \n",
       "78                                     15 Exitos   \n",
       "79                                  15 Exitos De   \n",
       "80                          15 Exitos Inmortales   \n",
       "81                         15 YEAR KILLING SPREE   \n",
       "82                                        150mph   \n",
       "83                16 #1 Hits From the Early 60's   \n",
       "84                               16 Biggest Hits   \n",
       "85                                     16 Exitos   \n",
       "86                       16 Most Requested Songs   \n",
       "87  16 Most Requested Songs Of The 1940s, Vol. 1   \n",
       "88     16th Century Italian & French Dance Music   \n",
       "89                              17 Greatest Hits   \n",
       "\n",
       "                                          review_body  \n",
       "70  If you like soft cell / Marc Almond then this ...  \n",
       "71  Got it mostly for Bionic Boogies Risky Changes...  \n",
       "72  Looks to be the goth / metal band's first CD r...  \n",
       "73  This is the best album I've heard in years.  I...  \n",
       "74  I can not stop listening to this album. I love...  \n",
       "75  13 tracks from Staind and only 3 are any good,...  \n",
       "76  I first heard this music while watching a demo...  \n",
       "77  Great Raggae CD here is the list of music  <br...  \n",
       "78  I loved this CD. There were a couple of the so...  \n",
       "79  On this CD you not only get some great tracks ...  \n",
       "80  Jorge Negrete has a wonderful voice with a gre...  \n",
       "81  This is an excellent box set for the price. Ca...  \n",
       "82  This was Louie Bellson's first album for Conco...  \n",
       "83  Great Album, but the identical cd is available...  \n",
       "84  Collin Raye is an exceptional singer!  He has ...  \n",
       "85  Out of nowhere, I hear a song called, \\\\\"El Me...  \n",
       "86  All the best of Mel Torme.  Sounds just like M...  \n",
       "87  Can't quite put my finger on it, but this coll...  \n",
       "88  The intro and closing pieces to 'A Distant Mir...  \n",
       "89  Great CD Janie Fricke has a wonderful voice an...  "
      ]
     },
     "execution_count": 26,
     "metadata": {},
     "output_type": "execute_result"
    }
   ],
   "source": [
    "combined_reviews[70:90]"
   ]
  },
  {
   "cell_type": "code",
   "execution_count": 35,
   "metadata": {},
   "outputs": [],
   "source": [
    "from pyspark.sql import SparkSession\n",
    "from pyspark.sql.functions import udf\n",
    "from pyspark.sql.types import StringType\n",
    "from sumy.parsers.plaintext import PlaintextParser\n",
    "from sumy.nlp.tokenizers import Tokenizer\n",
    "import pyspark.pandas as ps\n",
    "from sumy.summarizers.text_rank import TextRankSummarizer"
   ]
  },
  {
   "cell_type": "code",
   "execution_count": 36,
   "metadata": {},
   "outputs": [
    {
     "name": "stderr",
     "output_type": "stream",
     "text": [
      "/Users/johannebear/opt/anaconda3/lib/python3.9/site-packages/pyspark/sql/pandas/conversion.py:474: FutureWarning: iteritems is deprecated and will be removed in a future version. Use .items instead.\n",
      "  for column, series in pdf.iteritems():\n",
      "/Users/johannebear/opt/anaconda3/lib/python3.9/site-packages/pyspark/sql/pandas/conversion.py:486: FutureWarning: iteritems is deprecated and will be removed in a future version. Use .items instead.\n",
      "  for column, series in pdf.iteritems():\n"
     ]
    }
   ],
   "source": [
    "# Initialize SparkSession\n",
    "spark = SparkSession.builder \\\n",
    "    .appName(\"AppName\") \\\n",
    "    .getOrCreate()\n",
    "    \n",
    "# Convert pandas DataFrame column to Spark DataFrame\n",
    "spark_df = spark.createDataFrame(combined_reviews[['review_body']], schema=[\"sentence\"])"
   ]
  },
  {
   "cell_type": "code",
   "execution_count": 37,
   "metadata": {},
   "outputs": [],
   "source": [
    "# Use textrank to summarize the reviewbody\n",
    "\n",
    "def summarize_textrank(reviews):\n",
    "    NUM_SENTS = 1\n",
    "    summary = str()\n",
    "    parser = PlaintextParser.from_string(reviews, Tokenizer(\"english\"))\n",
    "    summarizer = TextRankSummarizer()\n",
    "    sentences = summarizer(parser.document, NUM_SENTS)  # Summarize the document with 1 sentences\n",
    "    for sentence in sentences:\n",
    "        summary += (sentence.__unicode__())\n",
    "    return summary"
   ]
  },
  {
   "cell_type": "code",
   "execution_count": 38,
   "metadata": {},
   "outputs": [],
   "source": [
    "summarize_reviews_udf = udf(summarize_textrank, StringType())"
   ]
  },
  {
   "cell_type": "code",
   "execution_count": 39,
   "metadata": {},
   "outputs": [],
   "source": [
    "# Add a new column with summarized reviews\n",
    "spark_df=spark_df.withColumn(\"summary\", summarize_reviews_udf(spark_df[\"sentence\"]))"
   ]
  },
  {
   "cell_type": "code",
   "execution_count": 40,
   "metadata": {},
   "outputs": [
    {
     "name": "stdout",
     "output_type": "stream",
     "text": [
      "23/08/10 16:26:53 WARN TaskSetManager: Stage 2 contains a task of very large size (1502 KiB). The maximum recommended task size is 1000 KiB.\n"
     ]
    },
    {
     "name": "stderr",
     "output_type": "stream",
     "text": [
      "[Stage 2:>                                                          (0 + 1) / 1]\r"
     ]
    },
    {
     "name": "stdout",
     "output_type": "stream",
     "text": [
      "+--------------------+--------------------+\n",
      "|            sentence|             summary|\n",
      "+--------------------+--------------------+\n",
      "|If you're a fight...|If you're a fight...|\n",
      "|I liked this cd. ...|Its a good compil...|\n",
      "|I love his voice!...|Trust me when you...|\n",
      "|Good music for ba...|Good music for ba...|\n",
      "|Indie label 4 men...|many will want to...|\n",
      "|I purchased the V...|If you're looking...|\n",
      "|This is the best ...|This is the best ...|\n",
      "|A spectacular alb...|Tommy Shaw has ne...|\n",
      "|AM A GREAT BELLAM...|AM A GREAT BELLAM...|\n",
      "|GRAB THIS ONE IF ...|It was surprising...|\n",
      "|This is a great p...|At times, she wou...|\n",
      "|This album is jus...|<br /> <br />Ther...|\n",
      "|This is one of Ch...|This is one of Ch...|\n",
      "|First off, let me...|<br />There first...|\n",
      "|as with all music...|the good is reall...|\n",
      "|Although it does ...|Although it does ...|\n",
      "|This boxed set is...|I love 80's music...|\n",
      "|I bought this CD ...|I think it is one...|\n",
      "|This CD is remast...|This CD is remast...|\n",
      "|This collection w...|This is our first...|\n",
      "+--------------------+--------------------+\n",
      "only showing top 20 rows\n",
      "\n"
     ]
    },
    {
     "name": "stderr",
     "output_type": "stream",
     "text": [
      "                                                                                \r"
     ]
    }
   ],
   "source": [
    "spark_df.show()"
   ]
  },
  {
   "cell_type": "code",
   "execution_count": 41,
   "metadata": {},
   "outputs": [
    {
     "name": "stdout",
     "output_type": "stream",
     "text": [
      "23/08/10 16:26:55 WARN TaskSetManager: Stage 3 contains a task of very large size (1502 KiB). The maximum recommended task size is 1000 KiB.\n"
     ]
    },
    {
     "name": "stderr",
     "output_type": "stream",
     "text": [
      "                                                                                \r"
     ]
    }
   ],
   "source": [
    "summary=spark_df.toPandas()"
   ]
  },
  {
   "cell_type": "code",
   "execution_count": 42,
   "metadata": {},
   "outputs": [
    {
     "data": {
      "text/html": [
       "<div>\n",
       "<style scoped>\n",
       "    .dataframe tbody tr th:only-of-type {\n",
       "        vertical-align: middle;\n",
       "    }\n",
       "\n",
       "    .dataframe tbody tr th {\n",
       "        vertical-align: top;\n",
       "    }\n",
       "\n",
       "    .dataframe thead th {\n",
       "        text-align: right;\n",
       "    }\n",
       "</style>\n",
       "<table border=\"1\" class=\"dataframe\">\n",
       "  <thead>\n",
       "    <tr style=\"text-align: right;\">\n",
       "      <th></th>\n",
       "      <th>sentence</th>\n",
       "      <th>summary</th>\n",
       "    </tr>\n",
       "  </thead>\n",
       "  <tbody>\n",
       "    <tr>\n",
       "      <th>0</th>\n",
       "      <td>If you're a fighter pilot, are with a fighter ...</td>\n",
       "      <td>If you're a fighter pilot, are with a fighter ...</td>\n",
       "    </tr>\n",
       "    <tr>\n",
       "      <th>1</th>\n",
       "      <td>I liked this cd. Its a good compilation of son...</td>\n",
       "      <td>Its a good compilation of songs, however I wis...</td>\n",
       "    </tr>\n",
       "    <tr>\n",
       "      <th>2</th>\n",
       "      <td>I love his voice!!!!! My boyfriend knows that ...</td>\n",
       "      <td>Trust me when you hear JP sing his OWN music, ...</td>\n",
       "    </tr>\n",
       "    <tr>\n",
       "      <th>3</th>\n",
       "      <td>Good music for ballroom dancing -- both for th...</td>\n",
       "      <td>Good music for ballroom dancing -- both for th...</td>\n",
       "    </tr>\n",
       "    <tr>\n",
       "      <th>4</th>\n",
       "      <td>Indie label 4 men with Beards gets permission ...</td>\n",
       "      <td>many will want to get the turn table out of mo...</td>\n",
       "    </tr>\n",
       "    <tr>\n",
       "      <th>...</th>\n",
       "      <td>...</td>\n",
       "      <td>...</td>\n",
       "    </tr>\n",
       "    <tr>\n",
       "      <th>17100</th>\n",
       "      <td>its like Tom Petty, remixed by David Lynch. &lt;b...</td>\n",
       "      <td>&lt;br /&gt; &lt;br /&gt;1) \\\\\"la news\\\\\" is a great start...</td>\n",
       "    </tr>\n",
       "    <tr>\n",
       "      <th>17101</th>\n",
       "      <td>Very good studio moe.  Plane crash, Happy Hour...</td>\n",
       "      <td>Plane crash, Happy Hour Hero, Nebraska are som...</td>\n",
       "    </tr>\n",
       "    <tr>\n",
       "      <th>17102</th>\n",
       "      <td>Sorry for the mixed metaphor of a title, but M...</td>\n",
       "      <td>Spear is one of reggae's all-time most importa...</td>\n",
       "    </tr>\n",
       "    <tr>\n",
       "      <th>17103</th>\n",
       "      <td>Compare to the others Estopa CD's this is not ...</td>\n",
       "      <td>Compare to the others Estopa CD's this is not ...</td>\n",
       "    </tr>\n",
       "    <tr>\n",
       "      <th>17104</th>\n",
       "      <td>John Scofield is so versatile, and Adam Deitch...</td>\n",
       "      <td>John Scofield is so versatile, and Adam Deitch...</td>\n",
       "    </tr>\n",
       "  </tbody>\n",
       "</table>\n",
       "<p>17105 rows × 2 columns</p>\n",
       "</div>"
      ],
      "text/plain": [
       "                                                sentence  \\\n",
       "0      If you're a fighter pilot, are with a fighter ...   \n",
       "1      I liked this cd. Its a good compilation of son...   \n",
       "2      I love his voice!!!!! My boyfriend knows that ...   \n",
       "3      Good music for ballroom dancing -- both for th...   \n",
       "4      Indie label 4 men with Beards gets permission ...   \n",
       "...                                                  ...   \n",
       "17100  its like Tom Petty, remixed by David Lynch. <b...   \n",
       "17101  Very good studio moe.  Plane crash, Happy Hour...   \n",
       "17102  Sorry for the mixed metaphor of a title, but M...   \n",
       "17103  Compare to the others Estopa CD's this is not ...   \n",
       "17104  John Scofield is so versatile, and Adam Deitch...   \n",
       "\n",
       "                                                 summary  \n",
       "0      If you're a fighter pilot, are with a fighter ...  \n",
       "1      Its a good compilation of songs, however I wis...  \n",
       "2      Trust me when you hear JP sing his OWN music, ...  \n",
       "3      Good music for ballroom dancing -- both for th...  \n",
       "4      many will want to get the turn table out of mo...  \n",
       "...                                                  ...  \n",
       "17100  <br /> <br />1) \\\\\"la news\\\\\" is a great start...  \n",
       "17101  Plane crash, Happy Hour Hero, Nebraska are som...  \n",
       "17102  Spear is one of reggae's all-time most importa...  \n",
       "17103  Compare to the others Estopa CD's this is not ...  \n",
       "17104  John Scofield is so versatile, and Adam Deitch...  \n",
       "\n",
       "[17105 rows x 2 columns]"
      ]
     },
     "execution_count": 42,
     "metadata": {},
     "output_type": "execute_result"
    }
   ],
   "source": [
    "summary"
   ]
  },
  {
   "cell_type": "code",
   "execution_count": 43,
   "metadata": {},
   "outputs": [],
   "source": [
    "combined_reviews['summary']=summary['summary']"
   ]
  },
  {
   "cell_type": "code",
   "execution_count": 44,
   "metadata": {},
   "outputs": [
    {
     "name": "stdout",
     "output_type": "stream",
     "text": [
      "3542\n",
      "177\n"
     ]
    }
   ],
   "source": [
    "print(len(combined_reviews['review_body'][7]))\n",
    "print(len(combined_reviews['summary'][7]))\n"
   ]
  },
  {
   "cell_type": "code",
   "execution_count": 45,
   "metadata": {},
   "outputs": [
    {
     "data": {
      "text/html": [
       "<div>\n",
       "<style scoped>\n",
       "    .dataframe tbody tr th:only-of-type {\n",
       "        vertical-align: middle;\n",
       "    }\n",
       "\n",
       "    .dataframe tbody tr th {\n",
       "        vertical-align: top;\n",
       "    }\n",
       "\n",
       "    .dataframe thead th {\n",
       "        text-align: right;\n",
       "    }\n",
       "</style>\n",
       "<table border=\"1\" class=\"dataframe\">\n",
       "  <thead>\n",
       "    <tr style=\"text-align: right;\">\n",
       "      <th></th>\n",
       "      <th>product_title</th>\n",
       "      <th>review_body</th>\n",
       "      <th>summary</th>\n",
       "    </tr>\n",
       "  </thead>\n",
       "  <tbody>\n",
       "    <tr>\n",
       "      <th>0</th>\n",
       "      <td>\"2\"</td>\n",
       "      <td>If you're a fighter pilot, are with a fighter ...</td>\n",
       "      <td>If you're a fighter pilot, are with a fighter ...</td>\n",
       "    </tr>\n",
       "    <tr>\n",
       "      <th>1</th>\n",
       "      <td>\"DLG (Dark, Latin Groove) - Greatest Hits\"</td>\n",
       "      <td>I liked this cd. Its a good compilation of son...</td>\n",
       "      <td>Its a good compilation of songs, however I wis...</td>\n",
       "    </tr>\n",
       "    <tr>\n",
       "      <th>2</th>\n",
       "      <td>\"If I Go Away\" / \"Man Like Me\"</td>\n",
       "      <td>I love his voice!!!!! My boyfriend knows that ...</td>\n",
       "      <td>Trust me when you hear JP sing his OWN music, ...</td>\n",
       "    </tr>\n",
       "    <tr>\n",
       "      <th>3</th>\n",
       "      <td>\"John Skinner's Second Complete Ballroom Dance\"</td>\n",
       "      <td>Good music for ballroom dancing -- both for th...</td>\n",
       "      <td>Good music for ballroom dancing -- both for th...</td>\n",
       "    </tr>\n",
       "    <tr>\n",
       "      <th>4</th>\n",
       "      <td>\"Metal Box  3x 12\"\" 45 Rpm Lp in Metal Box\"</td>\n",
       "      <td>Indie label 4 men with Beards gets permission ...</td>\n",
       "      <td>many will want to get the turn table out of mo...</td>\n",
       "    </tr>\n",
       "    <tr>\n",
       "      <th>...</th>\n",
       "      <td>...</td>\n",
       "      <td>...</td>\n",
       "      <td>...</td>\n",
       "    </tr>\n",
       "    <tr>\n",
       "      <th>17100</th>\n",
       "      <td>this is the fire</td>\n",
       "      <td>its like Tom Petty, remixed by David Lynch. &lt;b...</td>\n",
       "      <td>&lt;br /&gt; &lt;br /&gt;1) \\\\\"la news\\\\\" is a great start...</td>\n",
       "    </tr>\n",
       "    <tr>\n",
       "      <th>17101</th>\n",
       "      <td>tin cans &amp; car tires</td>\n",
       "      <td>Very good studio moe.  Plane crash, Happy Hour...</td>\n",
       "      <td>Plane crash, Happy Hour Hero, Nebraska are som...</td>\n",
       "    </tr>\n",
       "    <tr>\n",
       "      <th>17102</th>\n",
       "      <td>travelling</td>\n",
       "      <td>Sorry for the mixed metaphor of a title, but M...</td>\n",
       "      <td>Spear is one of reggae's all-time most importa...</td>\n",
       "    </tr>\n",
       "    <tr>\n",
       "      <th>17103</th>\n",
       "      <td>¿La Calle Es Tuya?</td>\n",
       "      <td>Compare to the others Estopa CD's this is not ...</td>\n",
       "      <td>Compare to the others Estopa CD's this is not ...</td>\n",
       "    </tr>\n",
       "    <tr>\n",
       "      <th>17104</th>\n",
       "      <td>Überjam</td>\n",
       "      <td>John Scofield is so versatile, and Adam Deitch...</td>\n",
       "      <td>John Scofield is so versatile, and Adam Deitch...</td>\n",
       "    </tr>\n",
       "  </tbody>\n",
       "</table>\n",
       "<p>17105 rows × 3 columns</p>\n",
       "</div>"
      ],
      "text/plain": [
       "                                         product_title  \\\n",
       "0                                                  \"2\"   \n",
       "1           \"DLG (Dark, Latin Groove) - Greatest Hits\"   \n",
       "2                       \"If I Go Away\" / \"Man Like Me\"   \n",
       "3      \"John Skinner's Second Complete Ballroom Dance\"   \n",
       "4          \"Metal Box  3x 12\"\" 45 Rpm Lp in Metal Box\"   \n",
       "...                                                ...   \n",
       "17100                                 this is the fire   \n",
       "17101                             tin cans & car tires   \n",
       "17102                                       travelling   \n",
       "17103                               ¿La Calle Es Tuya?   \n",
       "17104                                          Überjam   \n",
       "\n",
       "                                             review_body  \\\n",
       "0      If you're a fighter pilot, are with a fighter ...   \n",
       "1      I liked this cd. Its a good compilation of son...   \n",
       "2      I love his voice!!!!! My boyfriend knows that ...   \n",
       "3      Good music for ballroom dancing -- both for th...   \n",
       "4      Indie label 4 men with Beards gets permission ...   \n",
       "...                                                  ...   \n",
       "17100  its like Tom Petty, remixed by David Lynch. <b...   \n",
       "17101  Very good studio moe.  Plane crash, Happy Hour...   \n",
       "17102  Sorry for the mixed metaphor of a title, but M...   \n",
       "17103  Compare to the others Estopa CD's this is not ...   \n",
       "17104  John Scofield is so versatile, and Adam Deitch...   \n",
       "\n",
       "                                                 summary  \n",
       "0      If you're a fighter pilot, are with a fighter ...  \n",
       "1      Its a good compilation of songs, however I wis...  \n",
       "2      Trust me when you hear JP sing his OWN music, ...  \n",
       "3      Good music for ballroom dancing -- both for th...  \n",
       "4      many will want to get the turn table out of mo...  \n",
       "...                                                  ...  \n",
       "17100  <br /> <br />1) \\\\\"la news\\\\\" is a great start...  \n",
       "17101  Plane crash, Happy Hour Hero, Nebraska are som...  \n",
       "17102  Spear is one of reggae's all-time most importa...  \n",
       "17103  Compare to the others Estopa CD's this is not ...  \n",
       "17104  John Scofield is so versatile, and Adam Deitch...  \n",
       "\n",
       "[17105 rows x 3 columns]"
      ]
     },
     "execution_count": 45,
     "metadata": {},
     "output_type": "execute_result"
    }
   ],
   "source": [
    "combined_reviews"
   ]
  },
  {
   "cell_type": "code",
   "execution_count": 46,
   "metadata": {},
   "outputs": [],
   "source": [
    "combined_reviews.to_csv('data_w_summaries.csv',index=False)"
   ]
  }
 ],
 "metadata": {
  "kernelspec": {
   "display_name": "Python 3",
   "language": "python",
   "name": "python3"
  },
  "language_info": {
   "codemirror_mode": {
    "name": "ipython",
    "version": 3
   },
   "file_extension": ".py",
   "mimetype": "text/x-python",
   "name": "python",
   "nbconvert_exporter": "python",
   "pygments_lexer": "ipython3",
   "version": "3.9.13"
  },
  "orig_nbformat": 4
 },
 "nbformat": 4,
 "nbformat_minor": 2
}
